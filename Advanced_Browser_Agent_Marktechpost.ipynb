{
  "nbformat": 4,
  "nbformat_minor": 0,
  "metadata": {
    "colab": {
      "provenance": [],
      "include_colab_link": true
    },
    "kernelspec": {
      "name": "python3",
      "display_name": "Python 3"
    },
    "language_info": {
      "name": "python"
    }
  },
  "cells": [
    {
      "cell_type": "markdown",
      "metadata": {
        "id": "view-in-github",
        "colab_type": "text"
      },
      "source": [
        "<a href=\"https://colab.research.google.com/github/A7mad-Magdy77/01/blob/main/Advanced_Browser_Agent_Marktechpost.ipynb\" target=\"_parent\"><img src=\"https://colab.research.google.com/assets/colab-badge.svg\" alt=\"Open In Colab\"/></a>"
      ]
    },
    {
      "cell_type": "code",
      "source": [
        "!apt-get update -qq\n",
        "!apt-get install -y -qq chromium-browser chromium-chromedriver fonts-liberation\n",
        "!pip install -qq playwright python-dotenv langchain-google-generative-ai browser-use\n",
        "!playwright install"
      ],
      "metadata": {
        "colab": {
          "base_uri": "https://localhost:8080/"
        },
        "id": "p-jDdfQFMHYL",
        "outputId": "d5226402-4a6a-4776-ee39-6afac0abc862"
      },
      "execution_count": null,
      "outputs": [
        {
          "output_type": "stream",
          "name": "stdout",
          "text": [
            "W: Skipping acquire of configured file 'main/source/Sources' as repository 'https://r2u.stat.illinois.edu/ubuntu jammy InRelease' does not seem to provide it (sources.list entry misspelt?)\n",
            "\u001b[31mERROR: Could not find a version that satisfies the requirement langchain-google-generative-ai (from versions: none)\u001b[0m\u001b[31m\n",
            "\u001b[0m\u001b[31mERROR: No matching distribution found for langchain-google-generative-ai\u001b[0m\u001b[31m\n",
            "\u001b[0mPlaywright Host validation warning: \n",
            "╔══════════════════════════════════════════════════════╗\n",
            "║ Host system is missing dependencies to run browsers. ║\n",
            "║ Missing libraries:                                   ║\n",
            "║     libwoff2dec.so.1.0.2                             ║\n",
            "║     libgstgl-1.0.so.0                                ║\n",
            "║     libgstcodecparsers-1.0.so.0                      ║\n",
            "║     libavif.so.13                                    ║\n",
            "║     libharfbuzz-icu.so.0                             ║\n",
            "║     libenchant-2.so.2                                ║\n",
            "║     libsecret-1.so.0                                 ║\n",
            "║     libhyphen.so.0                                   ║\n",
            "║     libmanette-0.2.so.0                              ║\n",
            "╚══════════════════════════════════════════════════════╝\n",
            "    at validateDependenciesLinux (/usr/local/lib/python3.11/dist-packages/playwright/driver/package/lib/server/registry/dependencies.js:216:9)\n",
            "\u001b[90m    at process.processTicksAndRejections (node:internal/process/task_queues:105:5)\u001b[39m\n",
            "    at async Registry._validateHostRequirements (/usr/local/lib/python3.11/dist-packages/playwright/driver/package/lib/server/registry/index.js:859:52)\n",
            "    at async Registry._validateHostRequirementsForExecutableIfNeeded (/usr/local/lib/python3.11/dist-packages/playwright/driver/package/lib/server/registry/index.js:957:7)\n",
            "    at async Registry.validateHostRequirementsForExecutablesIfNeeded (/usr/local/lib/python3.11/dist-packages/playwright/driver/package/lib/server/registry/index.js:946:43)\n",
            "    at async t.<anonymous> (/usr/local/lib/python3.11/dist-packages/playwright/driver/package/lib/cli/program.js:122:7)\n"
          ]
        }
      ]
    },
    {
      "cell_type": "code",
      "source": [
        "import os\n",
        "import asyncio\n",
        "from getpass import getpass\n",
        "from pydantic import SecretStr\n",
        "from langchain_google_genai import ChatGoogleGenerativeAI\n",
        "from browser_use import Agent, Browser, BrowserContextConfig, BrowserConfig\n",
        "from browser_use.browser.browser import BrowserContext"
      ],
      "metadata": {
        "id": "3UznEmUhMrcm"
      },
      "execution_count": null,
      "outputs": []
    },
    {
      "cell_type": "code",
      "source": [
        "os.environ[\"ANONYMIZED_TELEMETRY\"] = \"false\""
      ],
      "metadata": {
        "id": "0KBd-P_TMtYj"
      },
      "execution_count": null,
      "outputs": []
    },
    {
      "cell_type": "code",
      "source": [
        "async def setup_browser(headless: bool = True):\n",
        "    browser = Browser(config=BrowserConfig(headless=headless))\n",
        "    context = BrowserContext(\n",
        "        browser=browser,\n",
        "        config=BrowserContextConfig(\n",
        "            wait_for_network_idle_page_load_time=5.0,\n",
        "            highlight_elements=True,\n",
        "            save_recording_path=\"./recordings\",\n",
        "        )\n",
        "    )\n",
        "    return browser, context"
      ],
      "metadata": {
        "id": "jYkdCdLdMvgE"
      },
      "execution_count": null,
      "outputs": []
    },
    {
      "cell_type": "code",
      "source": [
        "async def agent_loop(llm, browser_context, query, initial_url=None):\n",
        "    initial_actions = [{\"open_tab\": {\"url\": initial_url}}] if initial_url else None\n",
        "    agent = Agent(\n",
        "        task=query,\n",
        "        llm=llm,\n",
        "        browser_context=browser_context,\n",
        "        use_vision=True,\n",
        "        generate_gif=False,\n",
        "        initial_actions=initial_actions,\n",
        "    )\n",
        "    result = await agent.run()\n",
        "    return result.final_result() if result else None"
      ],
      "metadata": {
        "id": "lRzGc7dXMxTX"
      },
      "execution_count": null,
      "outputs": []
    },
    {
      "cell_type": "code",
      "source": [
        "async def main():\n",
        "    raw_key = getpass(\"Enter your GEMINI_API_KEY: \")\n",
        "\n",
        "    os.environ[\"GEMINI_API_KEY\"] = raw_key\n",
        "\n",
        "    api_key = SecretStr(raw_key)\n",
        "    model_name = \"gemini-2.5-flash-preview-04-17\"\n",
        "\n",
        "    llm = ChatGoogleGenerativeAI(model=model_name, api_key=api_key)\n",
        "\n",
        "    browser, context = await setup_browser(headless=True)\n",
        "\n",
        "    try:\n",
        "        while True:\n",
        "            query = input(\"\\nEnter prompt (or leave blank to exit): \").strip()\n",
        "            if not query:\n",
        "                break\n",
        "            url = input(\"Optional URL to open first (or blank to skip): \").strip() or None\n",
        "\n",
        "            print(\"\\n🤖 Running agent…\")\n",
        "            answer = await agent_loop(llm, context, query, initial_url=url)\n",
        "            print(\"\\n📊 Search Results\\n\" + \"-\"*40)\n",
        "            print(answer or \"No results found\")\n",
        "            print(\"-\"*40)\n",
        "    finally:\n",
        "        print(\"Closing browser…\")\n",
        "        await browser.close()\n",
        "\n",
        "await main()"
      ],
      "metadata": {
        "colab": {
          "base_uri": "https://localhost:8080/"
        },
        "id": "qmWJRMSmMIRI",
        "outputId": "31875236-d1b2-4d26-c90a-aa368cb65389"
      },
      "execution_count": null,
      "outputs": [
        {
          "output_type": "stream",
          "name": "stdout",
          "text": [
            "Enter your GEMINI_API_KEY: ··········\n",
            "\n",
            "Enter prompt (or leave blank to exit): What’s the current price of Bitcoin? Please grab it from coinmarketcap.com and show me the number\n",
            "Optional URL to open first (or blank to skip): \n",
            "\n",
            "🤖 Running agent…\n"
          ]
        },
        {
          "output_type": "stream",
          "name": "stderr",
          "text": [
            "WARNING:browser_use.browser.browser:⚠️ Headless mode is not recommended. Many sites will detect and block all headless browsers.\n"
          ]
        },
        {
          "output_type": "stream",
          "name": "stdout",
          "text": [
            "\n",
            "📊 Search Results\n",
            "----------------------------------------\n",
            "The current price of Bitcoin on coinmarketcap.com is $84,446.56\n",
            "----------------------------------------\n"
          ]
        }
      ]
    }
  ]
}